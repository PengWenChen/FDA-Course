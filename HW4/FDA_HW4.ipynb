{
 "cells": [
  {
   "cell_type": "markdown",
   "metadata": {},
   "source": [
    "## Travel Review Ratings Data Set Analysis\n",
    "Abstract: Google reviews on attractions from 24 categories across Europe are considered. Google user rating ranges from 1 to 5 and average user rating per category is calculated.<br>\n",
    "\n",
    "Data Set Information:<br>\n",
    "This data set is populated by capturing user ratings from Google reviews. Reviews on attractions from 24 categories across Europe are considered. Google user rating ranges from 1 to 5 and average user rating per category is calculated.\n",
    "\n",
    "<br>\n",
    "Attribute Information:<br>\n",
    "Attribute 1 : Unique user id <br>\n",
    "Attribute 2 : Average ratings on churches <br>\n",
    "Attribute 3 : Average ratings on resorts <br>\n",
    "Attribute 4 : Average ratings on beaches <br>\n",
    "Attribute 5 : Average ratings on parks <br>\n",
    "Attribute 6 : Average ratings on theatres <br>\n",
    "Attribute 7 : Average ratings on museums <br>\n",
    "Attribute 8 : Average ratings on malls <br>\n",
    "Attribute 9 : Average ratings on zoo <br>\n",
    "Attribute 10 : Average ratings on restaurants <br>\n",
    "Attribute 11 : Average ratings on pubs/bars <br>\n",
    "Attribute 12 : Average ratings on local services<br> \n",
    "Attribute 13 : Average ratings on burger/pizza shops<br> \n",
    "Attribute 14 : Average ratings on hotels/other lodgings <br>\n",
    "Attribute 15 : Average ratings on juice bars <br>\n",
    "Attribute 16 : Average ratings on art galleries <br>\n",
    "Attribute 17 : Average ratings on dance clubs <br>\n",
    "Attribute 18 : Average ratings on swimming pools <br>\n",
    "Attribute 19 : Average ratings on gyms <br>\n",
    "Attribute 20 : Average ratings on bakeries <br>\n",
    "Attribute 21 : Average ratings on beauty & spas<br> \n",
    "Attribute 22 : Average ratings on cafes <br>\n",
    "Attribute 23 : Average ratings on view points<br> \n",
    "Attribute 24 : Average ratings on monuments <br>\n",
    "Attribute 25 : Average ratings on gardens<br>"
   ]
  },
  {
   "cell_type": "code",
   "execution_count": 4,
   "metadata": {},
   "outputs": [],
   "source": [
    "import pandas as pd\n",
    "import numpy as np\n",
    "import matplotlib.pyplot as plt"
   ]
  },
  {
   "cell_type": "code",
   "execution_count": 5,
   "metadata": {},
   "outputs": [
    {
     "data": {
      "text/html": [
       "<div>\n",
       "<style scoped>\n",
       "    .dataframe tbody tr th:only-of-type {\n",
       "        vertical-align: middle;\n",
       "    }\n",
       "\n",
       "    .dataframe tbody tr th {\n",
       "        vertical-align: top;\n",
       "    }\n",
       "\n",
       "    .dataframe thead th {\n",
       "        text-align: right;\n",
       "    }\n",
       "</style>\n",
       "<table border=\"1\" class=\"dataframe\">\n",
       "  <thead>\n",
       "    <tr style=\"text-align: right;\">\n",
       "      <th></th>\n",
       "      <th>User</th>\n",
       "      <th>Category 1</th>\n",
       "      <th>Category 2</th>\n",
       "      <th>Category 3</th>\n",
       "      <th>Category 4</th>\n",
       "      <th>Category 5</th>\n",
       "      <th>Category 6</th>\n",
       "      <th>Category 7</th>\n",
       "      <th>Category 8</th>\n",
       "      <th>Category 9</th>\n",
       "      <th>...</th>\n",
       "      <th>Category 15</th>\n",
       "      <th>Category 16</th>\n",
       "      <th>Category 17</th>\n",
       "      <th>Category 18</th>\n",
       "      <th>Category 19</th>\n",
       "      <th>Category 20</th>\n",
       "      <th>Category 21</th>\n",
       "      <th>Category 22</th>\n",
       "      <th>Category 23</th>\n",
       "      <th>Category 24</th>\n",
       "    </tr>\n",
       "  </thead>\n",
       "  <tbody>\n",
       "    <tr>\n",
       "      <th>0</th>\n",
       "      <td>User 1</td>\n",
       "      <td>0.0</td>\n",
       "      <td>0.0</td>\n",
       "      <td>3.63</td>\n",
       "      <td>3.65</td>\n",
       "      <td>5.0</td>\n",
       "      <td>2.92</td>\n",
       "      <td>5.0</td>\n",
       "      <td>2.35</td>\n",
       "      <td>2.33</td>\n",
       "      <td>...</td>\n",
       "      <td>1.74</td>\n",
       "      <td>0.59</td>\n",
       "      <td>0.5</td>\n",
       "      <td>0.0</td>\n",
       "      <td>0.5</td>\n",
       "      <td>0.0</td>\n",
       "      <td>0.0</td>\n",
       "      <td>0.0</td>\n",
       "      <td>0.0</td>\n",
       "      <td>0.0</td>\n",
       "    </tr>\n",
       "    <tr>\n",
       "      <th>1</th>\n",
       "      <td>User 2</td>\n",
       "      <td>0.0</td>\n",
       "      <td>0.0</td>\n",
       "      <td>3.63</td>\n",
       "      <td>3.65</td>\n",
       "      <td>5.0</td>\n",
       "      <td>2.92</td>\n",
       "      <td>5.0</td>\n",
       "      <td>2.64</td>\n",
       "      <td>2.33</td>\n",
       "      <td>...</td>\n",
       "      <td>1.74</td>\n",
       "      <td>0.59</td>\n",
       "      <td>0.5</td>\n",
       "      <td>0.0</td>\n",
       "      <td>0.5</td>\n",
       "      <td>0.0</td>\n",
       "      <td>0.0</td>\n",
       "      <td>0.0</td>\n",
       "      <td>0.0</td>\n",
       "      <td>0.0</td>\n",
       "    </tr>\n",
       "    <tr>\n",
       "      <th>2</th>\n",
       "      <td>User 3</td>\n",
       "      <td>0.0</td>\n",
       "      <td>0.0</td>\n",
       "      <td>3.63</td>\n",
       "      <td>3.63</td>\n",
       "      <td>5.0</td>\n",
       "      <td>2.92</td>\n",
       "      <td>5.0</td>\n",
       "      <td>2.64</td>\n",
       "      <td>2.33</td>\n",
       "      <td>...</td>\n",
       "      <td>1.74</td>\n",
       "      <td>0.59</td>\n",
       "      <td>0.5</td>\n",
       "      <td>0.0</td>\n",
       "      <td>0.5</td>\n",
       "      <td>0.0</td>\n",
       "      <td>0.0</td>\n",
       "      <td>0.0</td>\n",
       "      <td>0.0</td>\n",
       "      <td>0.0</td>\n",
       "    </tr>\n",
       "    <tr>\n",
       "      <th>3</th>\n",
       "      <td>User 4</td>\n",
       "      <td>0.0</td>\n",
       "      <td>0.5</td>\n",
       "      <td>3.63</td>\n",
       "      <td>3.63</td>\n",
       "      <td>5.0</td>\n",
       "      <td>2.92</td>\n",
       "      <td>5.0</td>\n",
       "      <td>2.35</td>\n",
       "      <td>2.33</td>\n",
       "      <td>...</td>\n",
       "      <td>1.74</td>\n",
       "      <td>0.59</td>\n",
       "      <td>0.5</td>\n",
       "      <td>0.0</td>\n",
       "      <td>0.5</td>\n",
       "      <td>0.0</td>\n",
       "      <td>0.0</td>\n",
       "      <td>0.0</td>\n",
       "      <td>0.0</td>\n",
       "      <td>0.0</td>\n",
       "    </tr>\n",
       "    <tr>\n",
       "      <th>4</th>\n",
       "      <td>User 5</td>\n",
       "      <td>0.0</td>\n",
       "      <td>0.0</td>\n",
       "      <td>3.63</td>\n",
       "      <td>3.63</td>\n",
       "      <td>5.0</td>\n",
       "      <td>2.92</td>\n",
       "      <td>5.0</td>\n",
       "      <td>2.64</td>\n",
       "      <td>2.33</td>\n",
       "      <td>...</td>\n",
       "      <td>1.74</td>\n",
       "      <td>0.59</td>\n",
       "      <td>0.5</td>\n",
       "      <td>0.0</td>\n",
       "      <td>0.5</td>\n",
       "      <td>0.0</td>\n",
       "      <td>0.0</td>\n",
       "      <td>0.0</td>\n",
       "      <td>0.0</td>\n",
       "      <td>0.0</td>\n",
       "    </tr>\n",
       "  </tbody>\n",
       "</table>\n",
       "<p>5 rows × 25 columns</p>\n",
       "</div>"
      ],
      "text/plain": [
       "     User  Category 1  Category 2  Category 3  Category 4  Category 5  \\\n",
       "0  User 1         0.0         0.0        3.63        3.65         5.0   \n",
       "1  User 2         0.0         0.0        3.63        3.65         5.0   \n",
       "2  User 3         0.0         0.0        3.63        3.63         5.0   \n",
       "3  User 4         0.0         0.5        3.63        3.63         5.0   \n",
       "4  User 5         0.0         0.0        3.63        3.63         5.0   \n",
       "\n",
       "   Category 6  Category 7  Category 8  Category 9     ...       Category 15  \\\n",
       "0        2.92         5.0        2.35        2.33     ...              1.74   \n",
       "1        2.92         5.0        2.64        2.33     ...              1.74   \n",
       "2        2.92         5.0        2.64        2.33     ...              1.74   \n",
       "3        2.92         5.0        2.35        2.33     ...              1.74   \n",
       "4        2.92         5.0        2.64        2.33     ...              1.74   \n",
       "\n",
       "  Category 16  Category 17  Category 18  Category 19  Category 20  \\\n",
       "0        0.59          0.5          0.0          0.5          0.0   \n",
       "1        0.59          0.5          0.0          0.5          0.0   \n",
       "2        0.59          0.5          0.0          0.5          0.0   \n",
       "3        0.59          0.5          0.0          0.5          0.0   \n",
       "4        0.59          0.5          0.0          0.5          0.0   \n",
       "\n",
       "   Category 21  Category 22  Category 23  Category 24  \n",
       "0          0.0          0.0          0.0          0.0  \n",
       "1          0.0          0.0          0.0          0.0  \n",
       "2          0.0          0.0          0.0          0.0  \n",
       "3          0.0          0.0          0.0          0.0  \n",
       "4          0.0          0.0          0.0          0.0  \n",
       "\n",
       "[5 rows x 25 columns]"
      ]
     },
     "execution_count": 5,
     "metadata": {},
     "output_type": "execute_result"
    }
   ],
   "source": [
    "df = pd.read_csv('./google_review_ratings.csv')\n",
    "df.head()"
   ]
  },
  {
   "cell_type": "markdown",
   "metadata": {},
   "source": [
    "## Data Preprocessing\n",
    "Deal with the NaN data."
   ]
  },
  {
   "cell_type": "code",
   "execution_count": 6,
   "metadata": {},
   "outputs": [
    {
     "data": {
      "text/plain": [
       "User           0\n",
       "Category 1     0\n",
       "Category 2     0\n",
       "Category 3     0\n",
       "Category 4     0\n",
       "Category 5     0\n",
       "Category 6     0\n",
       "Category 7     0\n",
       "Category 8     0\n",
       "Category 9     0\n",
       "Category 10    0\n",
       "Category 11    0\n",
       "Category 12    1\n",
       "Category 13    0\n",
       "Category 14    0\n",
       "Category 15    0\n",
       "Category 16    0\n",
       "Category 17    0\n",
       "Category 18    0\n",
       "Category 19    0\n",
       "Category 20    0\n",
       "Category 21    0\n",
       "Category 22    0\n",
       "Category 23    0\n",
       "Category 24    1\n",
       "dtype: int64"
      ]
     },
     "execution_count": 6,
     "metadata": {},
     "output_type": "execute_result"
    }
   ],
   "source": [
    "df.isna().sum() # Count the number of NaN data of each column."
   ]
  },
  {
   "cell_type": "code",
   "execution_count": 7,
   "metadata": {},
   "outputs": [],
   "source": [
    "df.fillna(0, inplace=True)  # Fill 0 to the NaN data"
   ]
  },
  {
   "cell_type": "code",
   "execution_count": 8,
   "metadata": {},
   "outputs": [
    {
     "data": {
      "text/plain": [
       "User           0\n",
       "Category 1     0\n",
       "Category 2     0\n",
       "Category 3     0\n",
       "Category 4     0\n",
       "Category 5     0\n",
       "Category 6     0\n",
       "Category 7     0\n",
       "Category 8     0\n",
       "Category 9     0\n",
       "Category 10    0\n",
       "Category 11    0\n",
       "Category 12    0\n",
       "Category 13    0\n",
       "Category 14    0\n",
       "Category 15    0\n",
       "Category 16    0\n",
       "Category 17    0\n",
       "Category 18    0\n",
       "Category 19    0\n",
       "Category 20    0\n",
       "Category 21    0\n",
       "Category 22    0\n",
       "Category 23    0\n",
       "Category 24    0\n",
       "dtype: int64"
      ]
     },
     "execution_count": 8,
     "metadata": {},
     "output_type": "execute_result"
    }
   ],
   "source": [
    "df.isna().sum()  # See whether there still exist NaN data"
   ]
  },
  {
   "cell_type": "markdown",
   "metadata": {},
   "source": [
    "因為之後想要使用K-means分群，所以先確認每一筆資料都是numerical"
   ]
  },
  {
   "cell_type": "code",
   "execution_count": 9,
   "metadata": {},
   "outputs": [
    {
     "name": "stdout",
     "output_type": "stream",
     "text": [
      "<class 'pandas.core.frame.DataFrame'>\n",
      "RangeIndex: 5456 entries, 0 to 5455\n",
      "Data columns (total 25 columns):\n",
      "User           5456 non-null object\n",
      "Category 1     5456 non-null float64\n",
      "Category 2     5456 non-null float64\n",
      "Category 3     5456 non-null float64\n",
      "Category 4     5456 non-null float64\n",
      "Category 5     5456 non-null float64\n",
      "Category 6     5456 non-null float64\n",
      "Category 7     5456 non-null float64\n",
      "Category 8     5456 non-null float64\n",
      "Category 9     5456 non-null float64\n",
      "Category 10    5456 non-null float64\n",
      "Category 11    5456 non-null object\n",
      "Category 12    5456 non-null float64\n",
      "Category 13    5456 non-null float64\n",
      "Category 14    5456 non-null float64\n",
      "Category 15    5456 non-null float64\n",
      "Category 16    5456 non-null float64\n",
      "Category 17    5456 non-null float64\n",
      "Category 18    5456 non-null float64\n",
      "Category 19    5456 non-null float64\n",
      "Category 20    5456 non-null float64\n",
      "Category 21    5456 non-null float64\n",
      "Category 22    5456 non-null float64\n",
      "Category 23    5456 non-null float64\n",
      "Category 24    5456 non-null float64\n",
      "dtypes: float64(23), object(2)\n",
      "memory usage: 1.0+ MB\n"
     ]
    }
   ],
   "source": [
    "df.info()   #user是object合理，但是Category 11竟然是object?"
   ]
  },
  {
   "cell_type": "code",
   "execution_count": 10,
   "metadata": {},
   "outputs": [
    {
     "name": "stdout",
     "output_type": "stream",
     "text": [
      "<class 'pandas.core.frame.DataFrame'>\n",
      "RangeIndex: 5456 entries, 0 to 5455\n",
      "Data columns (total 25 columns):\n",
      "User           5456 non-null object\n",
      "Category 1     5456 non-null float64\n",
      "Category 2     5456 non-null float64\n",
      "Category 3     5456 non-null float64\n",
      "Category 4     5456 non-null float64\n",
      "Category 5     5456 non-null float64\n",
      "Category 6     5456 non-null float64\n",
      "Category 7     5456 non-null float64\n",
      "Category 8     5456 non-null float64\n",
      "Category 9     5456 non-null float64\n",
      "Category 10    5456 non-null float64\n",
      "Category 11    5455 non-null float64\n",
      "Category 12    5456 non-null float64\n",
      "Category 13    5456 non-null float64\n",
      "Category 14    5456 non-null float64\n",
      "Category 15    5456 non-null float64\n",
      "Category 16    5456 non-null float64\n",
      "Category 17    5456 non-null float64\n",
      "Category 18    5456 non-null float64\n",
      "Category 19    5456 non-null float64\n",
      "Category 20    5456 non-null float64\n",
      "Category 21    5456 non-null float64\n",
      "Category 22    5456 non-null float64\n",
      "Category 23    5456 non-null float64\n",
      "Category 24    5456 non-null float64\n",
      "dtypes: float64(24), object(1)\n",
      "memory usage: 1.0+ MB\n"
     ]
    }
   ],
   "source": [
    "df[\"Category 11\"] = pd.to_numeric(df[\"Category 11\"],errors='coerce') #將Category 11轉乘float64\n",
    "\n",
    "df.info()  #再次確認"
   ]
  },
  {
   "cell_type": "code",
   "execution_count": 11,
   "metadata": {},
   "outputs": [
    {
     "name": "stdout",
     "output_type": "stream",
     "text": [
      "Before:\n",
      " User           0\n",
      "Category 1     0\n",
      "Category 2     0\n",
      "Category 3     0\n",
      "Category 4     0\n",
      "Category 5     0\n",
      "Category 6     0\n",
      "Category 7     0\n",
      "Category 8     0\n",
      "Category 9     0\n",
      "Category 10    0\n",
      "Category 11    1\n",
      "Category 12    0\n",
      "Category 13    0\n",
      "Category 14    0\n",
      "Category 15    0\n",
      "Category 16    0\n",
      "Category 17    0\n",
      "Category 18    0\n",
      "Category 19    0\n",
      "Category 20    0\n",
      "Category 21    0\n",
      "Category 22    0\n",
      "Category 23    0\n",
      "Category 24    0\n",
      "dtype: int64\n",
      "After:\n",
      " User           0\n",
      "Category 1     0\n",
      "Category 2     0\n",
      "Category 3     0\n",
      "Category 4     0\n",
      "Category 5     0\n",
      "Category 6     0\n",
      "Category 7     0\n",
      "Category 8     0\n",
      "Category 9     0\n",
      "Category 10    0\n",
      "Category 11    0\n",
      "Category 12    0\n",
      "Category 13    0\n",
      "Category 14    0\n",
      "Category 15    0\n",
      "Category 16    0\n",
      "Category 17    0\n",
      "Category 18    0\n",
      "Category 19    0\n",
      "Category 20    0\n",
      "Category 21    0\n",
      "Category 22    0\n",
      "Category 23    0\n",
      "Category 24    0\n",
      "dtype: int64\n"
     ]
    }
   ],
   "source": [
    "print('Before:\\n',df.isna().sum())  #發現Category 11有NaN 所以上述去除NaN的動作再做一次\n",
    "df.fillna(0, inplace=True)\n",
    "print('After:\\n',df.isna().sum())"
   ]
  },
  {
   "cell_type": "code",
   "execution_count": 40,
   "metadata": {},
   "outputs": [
    {
     "data": {
      "text/plain": [
       "<matplotlib.axes._subplots.AxesSubplot at 0x1fc0844c630>"
      ]
     },
     "execution_count": 40,
     "metadata": {},
     "output_type": "execute_result"
    },
    {
     "data": {
      "image/png": "[encoded data removed]",
      "text/plain": [
       "<Figure size 432x288 with 1 Axes>"
      ]
     },
     "metadata": {},
     "output_type": "display_data"
    }
   ],
   "source": [
    "df.std(axis=0).plot(kind='barh')\n",
    "df.mean(axis=0).plot(kind='barh')"
   ]
  },
  {
   "cell_type": "code",
   "execution_count": 14,
   "metadata": {},
   "outputs": [
    {
     "data": {
      "text/plain": [
       "array([[0.  , 0.  , 3.63, ..., 0.  , 0.  , 0.  ],\n",
       "       [0.  , 0.  , 3.63, ..., 0.  , 0.  , 0.  ],\n",
       "       [0.  , 0.  , 3.63, ..., 0.  , 0.  , 0.  ],\n",
       "       ...,\n",
       "       [0.94, 5.  , 4.03, ..., 5.  , 5.  , 1.11],\n",
       "       [0.95, 4.05, 4.05, ..., 5.  , 5.  , 1.12],\n",
       "       [0.95, 4.07, 5.  , ..., 5.  , 5.  , 1.17]])"
      ]
     },
     "execution_count": 14,
     "metadata": {},
     "output_type": "execute_result"
    }
   ],
   "source": [
    "X = np.array(df.drop(['User'], 1).astype(float)) #drop User Id\n",
    "X"
   ]
  },
  {
   "cell_type": "markdown",
   "metadata": {},
   "source": [
    "因為這筆資料並沒有明確分類(do not have any class labels)，因此使用unsupervised learning進行分群，以下使用K Means"
   ]
  },
  {
   "cell_type": "markdown",
   "metadata": {},
   "source": [
    "## K Means"
   ]
  },
  {
   "cell_type": "code",
   "execution_count": 15,
   "metadata": {},
   "outputs": [],
   "source": [
    "from sklearn.cluster import KMeans"
   ]
  },
  {
   "cell_type": "code",
   "execution_count": 39,
   "metadata": {},
   "outputs": [
    {
     "data": {
      "image/png": "[encoded data removed]",
      "text/plain": [
       "<Figure size 720x432 with 1 Axes>"
      ]
     },
     "metadata": {},
     "output_type": "display_data"
    }
   ],
   "source": [
    "km = KMeans(n_clusters=2,init='random')  #K=2群\n",
    "y_pred = km.fit_predict(X)\n",
    "plt.figure(figsize=(10, 6))\n",
    "plt.xlabel('Salary')\n",
    "plt.ylabel('Rate of working')\n",
    "plt.scatter(X[:, 0], X[:, 1], c=y_pred) #C是第三維度 已顏色做維度\n",
    "plt.show()"
   ]
  },
  {
   "cell_type": "code",
   "execution_count": null,
   "metadata": {},
   "outputs": [],
   "source": []
  }
 ],
 "metadata": {
  "kernelspec": {
   "display_name": "Python 3",
   "language": "python",
   "name": "python3"
  },
  "language_info": {
   "codemirror_mode": {
    "name": "ipython",
    "version": 3
   },
   "file_extension": ".py",
   "mimetype": "text/x-python",
   "name": "python",
   "nbconvert_exporter": "python",
   "pygments_lexer": "ipython3",
   "version": "3.6.4"
  }
 },
 "nbformat": 4,
 "nbformat_minor": 2
}
