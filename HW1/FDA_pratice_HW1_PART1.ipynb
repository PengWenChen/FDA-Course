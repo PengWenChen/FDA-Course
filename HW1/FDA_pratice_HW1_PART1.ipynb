{
 "cells": [
  {
   "cell_type": "markdown",
   "metadata": {},
   "source": [
    "----\n",
    "# Meal review - Basic data analysis\n",
    "---\n",
    "It's a homework of FDA course.(HW1 PART1)\n",
    ">dataset:\n",
    "This dataset consists of reviews of fine foods from amazon. The data span a period of more than 10 years, including all ~500,000 reviews up to October 2012. Reviews include product and user information, ratings, and a plaintext review. We also have reviews from all other Amazon categories."
   ]
  },
  {
   "cell_type": "code",
   "execution_count": 2,
   "metadata": {},
   "outputs": [],
   "source": [
    "import pandas as pd\n",
    "import numpy as np\n",
    "import matplotlib.pyplot as plt\n",
    "import time\n",
    "import seaborn as sns"
   ]
  },
  {
   "cell_type": "code",
   "execution_count": 3,
   "metadata": {},
   "outputs": [],
   "source": [
    "data = pd.read_csv('Reviews.csv')\n",
    "data = data[:10000]"
   ]
  },
  {
   "cell_type": "markdown",
   "metadata": {},
   "source": [
    "## 1. Top-10 Reviewer\n",
    "To count the frequency of UserId, I make four lists to record every UserId's information, such as ProfileName.\n",
    "Combined the four lists as a dataframe, and then sort it with the ScoreCount."
   ]
  },
  {
   "cell_type": "code",
   "execution_count": 5,
   "metadata": {},
   "outputs": [
    {
     "data": {
      "text/html": [
       "<div>\n",
       "<style scoped>\n",
       "    .dataframe tbody tr th:only-of-type {\n",
       "        vertical-align: middle;\n",
       "    }\n",
       "\n",
       "    .dataframe tbody tr th {\n",
       "        vertical-align: top;\n",
       "    }\n",
       "\n",
       "    .dataframe thead th {\n",
       "        text-align: right;\n",
       "    }\n",
       "</style>\n",
       "<table border=\"1\" class=\"dataframe\">\n",
       "  <thead>\n",
       "    <tr style=\"text-align: right;\">\n",
       "      <th></th>\n",
       "      <th>UserId</th>\n",
       "      <th>ProfileName</th>\n",
       "      <th>ScoreCount</th>\n",
       "      <th>ScoreMean</th>\n",
       "    </tr>\n",
       "  </thead>\n",
       "  <tbody>\n",
       "    <tr>\n",
       "      <th>142</th>\n",
       "      <td>A1Z54EM24Y40LL</td>\n",
       "      <td>c2</td>\n",
       "      <td>17</td>\n",
       "      <td>3.882353</td>\n",
       "    </tr>\n",
       "    <tr>\n",
       "      <th>7958</th>\n",
       "      <td>A2SZLNSI5KOQJT</td>\n",
       "      <td>Carrie, \"Formerly &amp;#34;Sister Carrie&amp;#34;\"</td>\n",
       "      <td>10</td>\n",
       "      <td>3.800000</td>\n",
       "    </tr>\n",
       "    <tr>\n",
       "      <th>3331</th>\n",
       "      <td>A35R32TA60XD57</td>\n",
       "      <td>M. Torma</td>\n",
       "      <td>9</td>\n",
       "      <td>4.111111</td>\n",
       "    </tr>\n",
       "    <tr>\n",
       "      <th>1338</th>\n",
       "      <td>A281NPSIMI1C2R</td>\n",
       "      <td>Rebecca of Amazon \"The Rebecca Review\"</td>\n",
       "      <td>8</td>\n",
       "      <td>5.000000</td>\n",
       "    </tr>\n",
       "    <tr>\n",
       "      <th>367</th>\n",
       "      <td>A3OXHLG6DIBRW8</td>\n",
       "      <td>C. F. Hill \"CFH\"</td>\n",
       "      <td>7</td>\n",
       "      <td>4.428571</td>\n",
       "    </tr>\n",
       "  </tbody>\n",
       "</table>\n",
       "</div>"
      ],
      "text/plain": [
       "              UserId                                 ProfileName  ScoreCount  \\\n",
       "142   A1Z54EM24Y40LL                                          c2          17   \n",
       "7958  A2SZLNSI5KOQJT  Carrie, \"Formerly &#34;Sister Carrie&#34;\"          10   \n",
       "3331  A35R32TA60XD57                                    M. Torma           9   \n",
       "1338  A281NPSIMI1C2R      Rebecca of Amazon \"The Rebecca Review\"           8   \n",
       "367   A3OXHLG6DIBRW8                            C. F. Hill \"CFH\"           7   \n",
       "\n",
       "      ScoreMean  \n",
       "142    3.882353  \n",
       "7958   3.800000  \n",
       "3331   4.111111  \n",
       "1338   5.000000  \n",
       "367    4.428571  "
      ]
     },
     "execution_count": 5,
     "metadata": {},
     "output_type": "execute_result"
    }
   ],
   "source": [
    "ID=[]\n",
    "Profile=[]\n",
    "ScoreCount=[]\n",
    "ScoreTotal=[]\n",
    "\n",
    "for i in range(len(data)):\n",
    "    key = data.loc[i]['UserId']\n",
    "    pro = data.loc[i]['ProfileName']\n",
    "    score = data.loc[i]['Score']\n",
    "    if key not in ID:\n",
    "        ID.append(key)\n",
    "        Profile.append(pro)\n",
    "        ScoreCount.append(1)\n",
    "        ScoreTotal.append(score)\n",
    "    else:\n",
    "        p=ID.index(key)\n",
    "        ScoreCount[p]=ScoreCount[p]+1\n",
    "        ScoreTotal[p]=ScoreTotal[p]+score\n",
    "\n",
    "for i in range(len(ScoreCount)):\n",
    "    ScoreTotal[i]=float(ScoreTotal[i])/float(ScoreCount[i])\n",
    "\n",
    "d = { \"UserId\": ID, \n",
    "     \"ProfileName\": Profile,\n",
    "    \"ScoreCount\": ScoreCount,\n",
    "    \"ScoreMean\": ScoreTotal}\n",
    "df = pd.DataFrame(d)\n",
    "df = df.sort_values(['ScoreCount'], ascending=False)\n",
    "\n",
    "# To make UserId as the first column\n",
    "cols = df.columns.tolist()\n",
    "cols = cols[-1:] + cols[:-1]\n",
    "df = df[cols]\n",
    "\n",
    "df.head()"
   ]
  },
  {
   "cell_type": "markdown",
   "metadata": {},
   "source": [
    "## 2. Plot score distribution for the user with the most number of reviews"
   ]
  },
  {
   "cell_type": "code",
   "execution_count": 129,
   "metadata": {},
   "outputs": [
    {
     "data": {
      "text/plain": [
       "<BarContainer object of 5 artists>"
      ]
     },
     "execution_count": 129,
     "metadata": {},
     "output_type": "execute_result"
    },
    {
     "data": {
      "image/png": "[encoded data removed]",
      "text/plain": [
       "<Figure size 432x288 with 1 Axes>"
      ]
     },
     "metadata": {},
     "output_type": "display_data"
    }
   ],
   "source": [
    "most_re_ID = data['UserId'].value_counts().index[0]  #Find the reviewer with the most number of reviews\n",
    "x = data[data.UserId == most_re_ID]['Score'].value_counts().index.tolist()\n",
    "y = data[data.UserId == most_re_ID]['Score'].value_counts().tolist()\n",
    "plt.bar(x,y,color=['purple', 'r', 'forestgreen', 'orange', 'steelblue'])"
   ]
  },
  {
   "cell_type": "markdown",
   "metadata": {},
   "source": [
    "## 3. Plot pandas Series DataFrame (Time->Date)"
   ]
  },
  {
   "cell_type": "code",
   "execution_count": 113,
   "metadata": {},
   "outputs": [],
   "source": [
    "data3 = data['Time'] #Distract the Time colunm to a new dataframe"
   ]
  },
  {
   "cell_type": "code",
   "execution_count": 6,
   "metadata": {},
   "outputs": [
    {
     "data": {
      "text/plain": [
       "<BarContainer object of 10 artists>"
      ]
     },
     "execution_count": 6,
     "metadata": {},
     "output_type": "execute_result"
    },
    {
     "data": {
      "image/png": "[encoded data removed]",
      "text/plain": [
       "<Figure size 432x288 with 1 Axes>"
      ]
     },
     "metadata": {},
     "output_type": "display_data"
    }
   ],
   "source": [
    "def time_convert(timestamp):\n",
    "    time_tuple = time.localtime(timestamp)   # It will change the second term to an time object\n",
    "    return time_tuple.tm_year                # and we can return the term 'year'\n",
    "data3 = data['Time'].apply(time_convert)  # run every data of the column 'Time' to the convert func\n",
    "# print(data3)\n",
    "x = data3.value_counts().index.tolist()\n",
    "y = data3.value_counts().tolist()\n",
    "plt.bar(x,y)"
   ]
  },
  {
   "cell_type": "markdown",
   "metadata": {},
   "source": [
    "## 4. Plot HeatMap using seaborn"
   ]
  },
  {
   "cell_type": "code",
   "execution_count": 141,
   "metadata": {},
   "outputs": [
    {
     "data": {
      "text/plain": [
       "<matplotlib.axes._subplots.AxesSubplot at 0x26d2ddee860>"
      ]
     },
     "execution_count": 141,
     "metadata": {},
     "output_type": "execute_result"
    },
    {
     "data": {
      "image/png": "[encoded data removed]",
      "text/plain": [
       "<Figure size 432x288 with 2 Axes>"
      ]
     },
     "metadata": {},
     "output_type": "display_data"
    }
   ],
   "source": [
    "sns.heatmap(data.corr(),annot=True) #annot=True, show the correlation number"
   ]
  },
  {
   "cell_type": "markdown",
   "metadata": {},
   "source": [
    "## 5. Helpful percent"
   ]
  },
  {
   "cell_type": "code",
   "execution_count": 145,
   "metadata": {},
   "outputs": [
    {
     "data": {
      "image/png": "[encoded data removed]",
      "text/plain": [
       "<Figure size 432x288 with 1 Axes>"
      ]
     },
     "metadata": {},
     "output_type": "display_data"
    }
   ],
   "source": [
    "percent = []\n",
    "for i in range(len(data)):\n",
    "    n = data.loc[i]['HelpfulnessNumerator']\n",
    "    d = data.loc[i]['HelpfulnessDenominator']\n",
    "    if n==0 and d==0:\n",
    "        percent.append(-1)\n",
    "    elif n<=d:\n",
    "        percent.append(float(n)/float(d))\n",
    "plt.hist(percent)\n",
    "plt.grid() #顯示網格線, show the grid lines\n",
    "plt.show()"
   ]
  }
 ],
 "metadata": {
  "kernelspec": {
   "display_name": "Python 3",
   "language": "python",
   "name": "python3"
  },
  "language_info": {
   "codemirror_mode": {
    "name": "ipython",
    "version": 3
   },
   "file_extension": ".py",
   "mimetype": "text/x-python",
   "name": "python",
   "nbconvert_exporter": "python",
   "pygments_lexer": "ipython3",
   "version": "3.6.4"
  }
 },
 "nbformat": 4,
 "nbformat_minor": 2
}
